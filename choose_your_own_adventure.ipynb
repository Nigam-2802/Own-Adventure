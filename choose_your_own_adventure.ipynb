{
 "cells": [
  {
   "cell_type": "code",
   "execution_count": 5,
   "id": "e477612c-4309-434f-8f22-f068eeaf083c",
   "metadata": {},
   "outputs": [
    {
     "name": "stdin",
     "output_type": "stream",
     "text": [
      "enter your name:  Gaurav\n"
     ]
    },
    {
     "name": "stdout",
     "output_type": "stream",
     "text": [
      "welcome Gaurav to this adventure\n"
     ]
    },
    {
     "name": "stdin",
     "output_type": "stream",
     "text": [
      "you are on the dirt road which has come to an end and you can go left or right. which way would ypou like to go?  right\n",
      "you come to a bridge, it looks wobbly, do you want to cross it or head back?:  head back\n"
     ]
    },
    {
     "name": "stdout",
     "output_type": "stream",
     "text": [
      "You go back to home and sleep. Bye\n",
      "Thank you for trying Gaurav\n"
     ]
    }
   ],
   "source": [
    "import random\n",
    "name= input(\"enter your name: \")\n",
    "print(\"welcome\", name, \"to this adventure\")\n",
    "\n",
    "Q1= input(\"you are on the dirt road which has come to an end and you can go left or right. which way would ypou like to go? \").lower()\n",
    "\n",
    "if Q1== \"left\":\n",
    "    Q2= input(\"you have come to a river where you can walk around it or swim across. Whould you like to walk or swim?: \").lower()\n",
    "    if Q2==\"swim\":\n",
    "        print(\"You swam across and were eaten by an aligator\")\n",
    "\n",
    "    elif Q2==\"walk\":\n",
    "        print(\"You walk for many miles and ran out of water. You lost the game\")\n",
    "    else:\n",
    "        print(\"Not a valid option. you lose\")\n",
    "\n",
    "\n",
    "elif Q1==\"right\":\n",
    "    Q2= input(\"you come to a bridge, it looks wobbly, do you want to cross it or head back?: \")\n",
    "    if Q2==\"cross\":\n",
    "        Q3= input(\"You cross the bridge and meet a stranger. Do you talk to them(y/n)?: \")\n",
    "        if Q3==\"y\":\n",
    "            print(\"You talk to the stranger and you win\")\n",
    "        elif Q3==\"N\":\n",
    "            print(\"You ignore the stranger and they are offended and you loose\")\n",
    "        else:\n",
    "            print(\"Not a valid option. you lose\")\n",
    "    elif Q2==\"head back\":\n",
    "        print(\"You go back to home and sleep. Bye\")\n",
    "    else:\n",
    "        print(\"Not a valid option. you lose\")\n",
    "else:\n",
    "    print(\"Not a valid option. you lose\")\n",
    "print(\"Thank you for trying\", name)"
   ]
  }
 ],
 "metadata": {
  "kernelspec": {
   "display_name": "Python 3 (ipykernel)",
   "language": "python",
   "name": "python3"
  },
  "language_info": {
   "codemirror_mode": {
    "name": "ipython",
    "version": 3
   },
   "file_extension": ".py",
   "mimetype": "text/x-python",
   "name": "python",
   "nbconvert_exporter": "python",
   "pygments_lexer": "ipython3",
   "version": "3.12.4"
  }
 },
 "nbformat": 4,
 "nbformat_minor": 5
}
